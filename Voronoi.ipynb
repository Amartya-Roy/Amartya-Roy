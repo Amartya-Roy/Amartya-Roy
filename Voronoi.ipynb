{
  "nbformat": 4,
  "nbformat_minor": 0,
  "metadata": {
    "colab": {
      "name": "Voronoi.ipynb",
      "private_outputs": true,
      "provenance": [],
      "authorship_tag": "ABX9TyOEiDym6DFjUw+B1DY76E8j",
      "include_colab_link": true
    },
    "kernelspec": {
      "name": "python3",
      "display_name": "Python 3"
    }
  },
  "cells": [
    {
      "cell_type": "markdown",
      "metadata": {
        "id": "view-in-github",
        "colab_type": "text"
      },
      "source": [
        "<a href=\"https://colab.research.google.com/github/Aryabhatt-O/Amartya-Roy/blob/main/Voronoi.ipynb\" target=\"_parent\"><img src=\"https://colab.research.google.com/assets/colab-badge.svg\" alt=\"Open In Colab\"/></a>"
      ]
    },
    {
      "cell_type": "markdown",
      "metadata": {
        "id": "FmkduTZaU4p_"
      },
      "source": [
        "# **Voronoi Implemenation**\r\n",
        "[qhull](http://www.qhull.org/html/index.htm)\r\n",
        "\r\n",
        "[scipy](https://docs.scipy.org/doc/scipy/reference/generated/scipy.spatial.Voronoi.html)\r\n",
        "\r\n",
        "[*Relationship between Voronoi  and Delanauy triangulations*](https://medium.com/stamatics-iit-kanpur/voronoi-diagrams-and-delaunay-triangulations-cc57ba901f9e)"
      ]
    },
    {
      "cell_type": "code",
      "metadata": {
        "id": "uEObgWiSUtZ7"
      },
      "source": [
        "import numpy as np\r\n",
        "import matplotlib.pyplot as plt\r\n",
        "points = np.array([[0,0],[2,2],[-2,2]])\r\n",
        "from scipy.spatial import Voronoi, voronoi_plot_2d\r\n",
        "vor = Voronoi(points)\r\n",
        "fig = voronoi_plot_2d(vor)\r\n",
        "plt.show()\r\n",
        "vor.ridge_points\r\n"
      ],
      "execution_count": null,
      "outputs": []
    },
    {
      "cell_type": "code",
      "metadata": {
        "id": "AslKL6Hb11ZD"
      },
      "source": [
        "pip install openmesh"
      ],
      "execution_count": null,
      "outputs": []
    },
    {
      "cell_type": "code",
      "metadata": {
        "id": "7nDiAt6l96NY"
      },
      "source": [
        "from PIL import Image\r\n",
        "import random\r\n",
        "import math\r\n",
        " \r\n",
        "def generate_voronoi_diagram(width, height, num_cells):\r\n",
        "  image = Image.new(\"RGB\", (width, height))\r\n",
        "  putpixel = image.putpixel\r\n",
        "  imgx, imgy = image.size\r\n",
        "  nx = []\r\n",
        "  ny = []\r\n",
        "  nr = []\r\n",
        "  ng = []\r\n",
        "  nb = []\r\n",
        "  for i in range(num_cells):\r\n",
        "    nx.append(random.randrange(imgx))\r\n",
        "    ny.append(random.randrange(imgy))\r\n",
        "    nr.append(random.randrange(256))\r\n",
        "    ng.append(random.randrange(256))\r\n",
        "    nb.append(random.randrange(256))\r\n",
        "  for y in range(imgy):\r\n",
        "    for x in range(imgx):\r\n",
        "      dmin = math.hypot(imgx-1, imgy-1)\r\n",
        "      j = -1\r\n",
        "      for i in range(num_cells):\r\n",
        "        d = math.hypot(nx[i]-x, ny[i]-y)\r\n",
        "        if d < dmin:\r\n",
        "          dmin = d\r\n",
        "          j = i\r\n",
        "          putpixel((x, y), (nr[j], ng[j], nb[j]))\r\n",
        "          image.save(\"VoronoiDiagram.png\", \"PNG\")\r\n",
        "          image.show()\r\n",
        " \r\n",
        "generate_voronoi_diagram(500, 500, 25)"
      ],
      "execution_count": null,
      "outputs": []
    },
    {
      "cell_type": "code",
      "metadata": {
        "id": "eVO4lcWh3yxe"
      },
      "source": [
        "import math as m\r\n",
        "\r\n",
        "# Utils\r\n",
        "def findHAngle(dx, dy):\r\n",
        "  \"\"\"Determines the angle with respect to the x axis of a segment\r\n",
        "  of coordinates dx and dy\r\n",
        "  \"\"\"\r\n",
        "  l = m.sqrt(dx*dx + dy*dy)\r\n",
        "  if dy > 0:\r\n",
        "    return m.acos(dx/l)\r\n",
        "  else:\r\n",
        "    return 2*m.pi - m.acos(dx/l)\r\n",
        "\r\n",
        "\r\n",
        "class Vertex:\r\n",
        "  def __init__(self, x, y):\r\n",
        "    self.x = x\r\n",
        "    self.y = y\r\n",
        "    self.hedges = []  # list of halfedges whose tail is this vertex\r\n",
        "\r\n",
        "  def __eq__(self, other):\r\n",
        "    if isinstance(other, Vertex):\r\n",
        "      return self.x == other.x and self.y == other.y\r\n",
        "    return NotImplemented\r\n",
        "\r\n",
        "  def sortHedges(self):\r\n",
        "    self.hedges.sort(key=lambda a: a.angle, reverse=True)\r\n",
        "\r\n",
        "  def __repr__(self):\r\n",
        "    return \"({0},{1})\".format(self.x, self.y)\r\n",
        "\r\n",
        "\r\n",
        "class Hedge:\r\n",
        "  # v1 -> v2\r\n",
        "  def __init__(self, v1, v2):\r\n",
        "    self.prev = None\r\n",
        "    self.twin = None\r\n",
        "    self.next = None\r\n",
        "    self.tail = v1\r\n",
        "    self.face = None\r\n",
        "    self.angle = findHAngle(v2.x-v1.x, v2.y-v1.y)\r\n",
        "\r\n",
        "  def __eq__(self, other):\r\n",
        "    return self.tail == other.tail and \\\r\n",
        "        self.next.tail == other.next.tail\r\n",
        "\r\n",
        "  def __repr__(self):\r\n",
        "    if self.next is not None:\r\n",
        "      return \"({0},{1})->({2},{3})\".format(self.tail.x, self.tail.y,\r\n",
        "                                           self.next.tail.x,\r\n",
        "                                           self.next.tail.y)\r\n",
        "    else:\r\n",
        "      return \"({0},{1})->()\".format(self.tail.x, self.tail.y)\r\n",
        "\r\n",
        "\r\n",
        "class Face:\r\n",
        "  def __init__(self):\r\n",
        "    self.halfEdge = None\r\n",
        "    self.name = None\r\n",
        "\r\n",
        "\r\n",
        "class DCEL:\r\n",
        "  def __init__(self):\r\n",
        "    self.vertices = []\r\n",
        "    self.hedges = []\r\n",
        "    self.faces = []\r\n",
        "\r\n",
        "  # Returns vertex object given x and y\r\n",
        "  def findVertex(self, x, y):\r\n",
        "    for v in self.vertices:\r\n",
        "      if v.x == x and v.y == y:\r\n",
        "        return v\r\n",
        "    return None\r\n",
        "\r\n",
        "  # Returns Halfedge whole vertices are v1 and v2\r\n",
        "  # v1 and v2 are tuples\r\n",
        "  def findHalfEdge(self, v1, v2):\r\n",
        "    for halfEdge in self.hedges:\r\n",
        "      nextEdge = halfEdge.next\r\n",
        "      if (halfEdge.tail.x == v1[0] and halfEdge.tail.y == v1[1]) and (nextEdge.tail.x == v2[0] and nextEdge.tail.y == v2[1]):\r\n",
        "        return halfEdge\r\n",
        "\r\n",
        "    return None\r\n",
        "\r\n",
        "  def build_dcel(self, points, segments):\r\n",
        "\r\n",
        "    #  For each point create a vertex and add it to vertices\r\n",
        "    for point in points:\r\n",
        "      self.vertices.append(Vertex(point[0], point[1]))\r\n",
        "\r\n",
        "    # For each input segment, create to hedges and assign their\r\n",
        "    # tail vertices and twins\r\n",
        "\r\n",
        "    # Structures of segment is [(0, 5), (2, 5)]\r\n",
        "    for segment in segments:\r\n",
        "      startVertex = segment[0]\r\n",
        "      endVertex = segment[1]\r\n",
        "\r\n",
        "      v1 = self.findVertex(startVertex[0], startVertex[1])\r\n",
        "      v2 = self.findVertex(endVertex[0], endVertex[1])\r\n",
        "\r\n",
        "      h1 = Hedge(v1, v2)\r\n",
        "      h2 = Hedge(v2, v1)\r\n",
        "\r\n",
        "      h1.twin = h2\r\n",
        "      h2.twin = h1\r\n",
        "\r\n",
        "      v1.hedges.append(h1)\r\n",
        "      v2.hedges.append(h2)\r\n",
        "\r\n",
        "      self.hedges.append(h1)\r\n",
        "      self.hedges.append(h2)\r\n",
        "\r\n",
        "    # For each endpoint, sort the half-edges whose\r\n",
        "    # tail vertex is that endpoint in clockwise order.\r\n",
        "\r\n",
        "    for vertex in self.vertices:\r\n",
        "      vertex.sortHedges()\r\n",
        "\r\n",
        "      noOfHalfEdges = len(vertex.hedges)\r\n",
        "\r\n",
        "      if noOfHalfEdges < 2:\r\n",
        "        return Exception(\"Invalid DCEL. There should be at least two half edges for a vertex\")\r\n",
        "\r\n",
        "      # For every pair of half-edges e1, e2 in clockwise order,\r\n",
        "      # assign e1->twin->next = e2 and e2->prev = e1->twin.\r\n",
        "      for i in range(noOfHalfEdges - 1):\r\n",
        "        e1 = vertex.hedges[i]\r\n",
        "        e2 = vertex.hedges[i+1]\r\n",
        "\r\n",
        "        e1.twin.next = e2\r\n",
        "        e2.prev = e1.twin\r\n",
        "\r\n",
        "      # for the last and first halfedges pair\r\n",
        "      e1 = vertex.hedges[noOfHalfEdges - 1]\r\n",
        "      e2 = vertex.hedges[0]\r\n",
        "\r\n",
        "      e1.twin.next = e2\r\n",
        "      e2.prev = e1.twin\r\n",
        "\r\n",
        "    # For every cycle, allocate and assign a face structure.\r\n",
        "    faceCount = 0\r\n",
        "    for halfEdge in self.hedges:\r\n",
        "\r\n",
        "      if halfEdge.face == None:\r\n",
        "        print('here')\r\n",
        "        faceCount += 1\r\n",
        "\r\n",
        "        f = Face()\r\n",
        "        f.name = \"f\" + str(faceCount)\r\n",
        "\r\n",
        "        f.halfEdge = halfEdge\r\n",
        "        halfEdge.face = f\r\n",
        "\r\n",
        "        h = halfEdge\r\n",
        "        while (not h.next == halfEdge):\r\n",
        "          h.face = f\r\n",
        "          h = h.next\r\n",
        "        h.face = f\r\n",
        "\r\n",
        "        self.faces.append(f)\r\n",
        "\r\n",
        "  # Given a half, find all the regions\r\n",
        "  # The format of segment is [(0, 5), (2, 5)]\r\n",
        "\r\n",
        "  def findRegionGivenSegment(self, segment):\r\n",
        "    # We need to find the half edge whose vertices\r\n",
        "    # are that of the passed segment\r\n",
        "    v1 = segment[0]\r\n",
        "    v2 = segment[1]\r\n",
        "    startEdge = self.findHalfEdge(v1, v2)\r\n",
        "\r\n",
        "    h = startEdge\r\n",
        "    while (not h.next == startEdge):\r\n",
        "      print(h, end=\"--->\")\r\n",
        "      h = h.next\r\n",
        "    print(h, '--->', startEdge)\r\n",
        "\r\n",
        "\r\n",
        "def main():\r\n",
        "  points = [(0, 5), (2, 5), (3, 0), (0, 0)]\r\n",
        "\r\n",
        "  segments = [\r\n",
        "      [(0, 5), (2, 5)],\r\n",
        "      [(2, 5), (3, 0)],\r\n",
        "      [(3, 0), (0, 0)],\r\n",
        "      [(0, 0), (0, 5)],\r\n",
        "      [(0, 5), (3, 0)],\r\n",
        "  ]\r\n",
        "\r\n",
        "  myDCEL = DCEL()\r\n",
        "  myDCEL.build_dcel(points, segments)\r\n",
        "\r\n",
        "  myDCEL.findRegionGivenSegment([(3, 0), (0, 5)])\r\n",
        "\r\n",
        "\r\n",
        "main()\r\n",
        "\r\n",
        "\r\n",
        "# class point(self,x,y,type):\r\n",
        "  \r\n",
        "\r\n",
        "# class half_edge(p1,p2,sym):\r\n",
        "  # half\r\n"
      ],
      "execution_count": null,
      "outputs": []
    },
    {
      "cell_type": "code",
      "metadata": {
        "id": "8sYWFmYk6uKY"
      },
      "source": [
        ""
      ],
      "execution_count": null,
      "outputs": []
    },
    {
      "cell_type": "code",
      "metadata": {
        "id": "399sR7q5Y59M"
      },
      "source": [
        ";\r\n",
        "  \r\n",
        "from distutils.core import setup\r\n",
        "setup(name = 'dcel',\r\n",
        "    description = \"implementation of a doubly connected edge list\",\r\n",
        "    version = '0.1.1',\r\n",
        "    author = \"Angel Yanguas-Gil\",\r\n",
        "    author_email = \"angel.yanguas@gmail.com\",\r\n",
        "    url = \"http://ayanguasgil.net/\",\r\n",
        "    download_url = (\r\n",
        "        \"http://ayanguasgil.net/stuff/dcel-0.1.1.tar.gz\"),\r\n",
        "    packages = ['dcel'],\r\n",
        "    classifiers = [\"Development Status :: 2 - Pre-Alpha\",\r\n",
        "        \"Environment :: Console\",\r\n",
        "        \"Topic :: Scientific/Engineering\",\r\n",
        "        \"Topic :: Utilities\",\r\n",
        "        \"License :: OSI Approved :: BSD License\" ])\r\n"
      ],
      "execution_count": null,
      "outputs": []
    },
    {
      "cell_type": "markdown",
      "metadata": {
        "id": "9lVBnR8_PBNH"
      },
      "source": [
        ""
      ]
    },
    {
      "cell_type": "code",
      "metadata": {
        "id": "aXXEGLnUPBgW"
      },
      "source": [
        "from random import randint\r\n",
        "from delaunator import Delaunator, TrianguledObject"
      ],
      "execution_count": null,
      "outputs": []
    },
    {
      "cell_type": "code",
      "metadata": {
        "id": "b-NbROmnzw9R"
      },
      "source": [
        "# My  approach:\r\n",
        "# 1.Find all ridges around the point I want, using vor.ridge_points\r\n",
        "# 2.Take all of the ridge vertices from these ridges, as a set\r\n",
        "# 3.Look for the (unique) region with the same set of vertices.\r\n",
        "\r\n",
        "\r\n",
        "def restro(points):\r\n",
        "  M = 30\r\n",
        "  # points = np.random.uniform(0, 100, size=(M, 2))\r\n",
        "  vor = Voronoi(points)\r\n",
        "  voronoi_plot_2d(vor)\r\n",
        "\r\n",
        "\r\n",
        "def myFriends(new_point):\r\n",
        "  # new_point = [50, 50]\r\n",
        "  plt.plot(new_point[1], new_point[1], 'ro')\r\n",
        "\r\n",
        "point_index = np.argmin(np.sum((points - new_point)**2, axis=1))\r\n",
        "ridges = np.where(vor.ridge_points == point_index)[0]\r\n",
        "vertex_set = set(np.array(vor.ridge_vertices)[ridges, :].ravel())\r\n",
        "region = [x for x in vor.regions if set(x) == vertex_set][0]\r\n",
        "\r\n",
        "polygon = vor.vertices[region]\r\n",
        "plt.fill(*zip(*polygon), color='yellow')  \r\n",
        "plt.show()"
      ],
      "execution_count": null,
      "outputs": []
    },
    {
      "cell_type": "code",
      "metadata": {
        "id": "tdKHm7CZw71o"
      },
      "source": [
        "pip install pydelaunator"
      ],
      "execution_count": null,
      "outputs": []
    },
    {
      "cell_type": "code",
      "metadata": {
        "id": "qYpNG3If016N"
      },
      "source": [
        "import numpy as np\r\n",
        "y,x = np.meshgrid(range(10),range(20))\r\n",
        "\r\n"
      ],
      "execution_count": null,
      "outputs": []
    },
    {
      "cell_type": "code",
      "metadata": {
        "id": "mUl-m5aM1w8M"
      },
      "source": [
        "pip install MeshPy"
      ],
      "execution_count": null,
      "outputs": []
    },
    {
      "cell_type": "code",
      "metadata": {
        "id": "L2eVcTsJ2YPY"
      },
      "source": [
        "from meshpy.tet import MeshInfo, build"
      ],
      "execution_count": null,
      "outputs": []
    },
    {
      "cell_type": "code",
      "metadata": {
        "id": "beCTfBk_4Kjp"
      },
      "source": [
        "import numpy as np\r\n",
        "S = 15\r\n",
        "points = np.random.uniform(0, 100, size=(S, 2))\r\n",
        "vor = Voronoi(points)\r\n",
        "voronoi_plot_2d(vor)\r\n",
        "\r\n",
        "new_point = [20, 30]   \r\n",
        "plt.plot(new_point[0], new_point[1], 'ro')\r\n",
        "\r\n",
        "point_index = np.argmin(np.sum((points - new_point)**2, axis=1))\r\n",
        "print(point_index)\r\n",
        "ridges = np.where(vor.ridge_points == point_index)[0] \r\n",
        "print(ridges)   #Indices of the points between which each Voronoi ridge lies.\r\n",
        "vertex_set = set(np.array(vor.ridge_vertices)[ridges, :].ravel())\r\n",
        "print(vertex_set) #Indices of the Voronoi vertices forming each Voronoi ridge.\r\n",
        "region = [x for x in vor.regions if set(x) == vertex_set][0]\r\n",
        "print(region)\r\n",
        "\r\n",
        "polygon = vor.vertices[region]\r\n",
        "print(polygon)\r\n",
        "plt.fill(*zip(*polygon), color='yellow')  \r\n",
        "plt.show()"
      ],
      "execution_count": null,
      "outputs": []
    },
    {
      "cell_type": "code",
      "metadata": {
        "id": "ag4nQs853Dl2"
      },
      "source": [
        "!pip install CGAL\r\n",
        "import CGAL.Kernel.Point_2;"
      ],
      "execution_count": null,
      "outputs": []
    },
    {
      "cell_type": "markdown",
      "metadata": {
        "id": "1Os3MFUWQ42J"
      },
      "source": [
        "#  **Point is in which region of voronoi diagram**"
      ]
    },
    {
      "cell_type": "code",
      "metadata": {
        "id": "-eeL95ZT-cMW"
      },
      "source": [
        "def restro(points):\r\n",
        "  vor = Voronoi(points)\r\n",
        "  voronoi_plot_2d(vor)\r\n",
        "\r\n",
        "def friends(new_point):\r\n",
        "  plt.plot(new_point[0], new_point[1], 'ro')\r\n",
        "                                                         \r\n",
        "def find_Restro():\r\n",
        "  S = 15\r\n",
        "  points = np.random.uniform(0, 100, size=(S, 2))\r\n",
        "  new_point = [20,30]  \r\n",
        "  # point_index = np.argmin(np.sum((points - new_point)**2, axis=1))\r\n",
        "  point_index = vor.point_region\r\n",
        "  print(point_index)\r\n",
        "  ridges = np.where(vor.ridge_points == point_index)[0]\r\n",
        "  vertex_set = set(np.array(vor.ridge_vertices)[ridges, :].ravel())\r\n",
        "  region = [x for x in vor.regions if set(x) == vertex_set][0]\r\n",
        "  polygon = vor.vertices[region]\r\n",
        "  \r\n",
        "\r\n",
        "\r\n",
        "def hey_locate(restro,friends,find_Restro):\r\n",
        "  return(restro(points),friends(new_point),find_Restro())\r\n",
        "\r\n",
        "\r\n",
        "\r\n",
        "if __name__ == \"__main__\":\r\n",
        "  hey_locate(restro,friends,find_Restro)\r\n",
        "  plt.fill(*zip(*polygon), color='yellow')\r\n",
        "  plt.show()\r\n",
        "\r\n",
        "\r\n",
        "\r\n"
      ],
      "execution_count": null,
      "outputs": []
    },
    {
      "cell_type": "code",
      "metadata": {
        "id": "NqWt_xz-eiA0"
      },
      "source": [
        ""
      ],
      "execution_count": null,
      "outputs": []
    },
    {
      "cell_type": "code",
      "metadata": {
        "id": "GUei2EFafU54"
      },
      "source": [
        "def commentchar():\r\n",
        "    \"\"\"returns a list with the chars that signal comment lines\"\"\"\r\n",
        "\r\n",
        "    return _commentchars\r\n",
        "\r\n",
        "def addcommentchar(c):\r\n",
        "    \"\"\"appends a char to the list of chars that signal comment lines\"\"\"\r\n",
        "\r\n",
        "    if not c in _commentchars:\r\n",
        "        _commentchars.append(c[0])\r\n",
        "\r\n",
        "def setcommentchar(lc):\r\n",
        "    \"\"\"passes a list of comment markers\"\"\"\r\n",
        "\r\n",
        "    _commentchars = lc\r\n",
        "\r\n",
        "def tokenize(line):\r\n",
        "    \"\"\"determines the tokens inside a line (space or tab\r\n",
        "    separated) and returns their numerical values or, if that\r\n",
        "    fails, the token as a string\"\"\"\r\n",
        "\r\n",
        "    lw = []\r\n",
        "    if len(line) == 0 or line[0] in _commentchars:\r\n",
        "        return lw\r\n",
        "    else:\r\n",
        "        for word in line.split():\r\n",
        "            try:\r\n",
        "                val = float(word)\r\n",
        "            except:\r\n",
        "                val = word\r\n",
        "\r\n",
        "            lw.append(val)\r\n",
        "        return lw\r\n",
        "\r\n",
        "\r\n",
        "def filetosheet(filename):\r\n",
        "    \"\"\"Given a file, returns a sheet. A sheet is basically a list\r\n",
        "    of data rows\"\"\"\r\n",
        "\r\n",
        "    file = open(filename, 'r')\r\n",
        "    lines = file.readlines()\r\n",
        "    file.close()\r\n",
        "    plist = []\r\n",
        "    for line in lines:\r\n",
        "        p = tokenize(line)\r\n",
        "        if len(p) == 0:\r\n",
        "            continue\r\n",
        "        plist.append(p)\r\n",
        "    return plist\r\n",
        "\r\n",
        "def extractcolumn(sheet, coln):\r\n",
        "    \"\"\"gets column from sheet\"\"\"\r\n",
        "\r\n",
        "    col = []\r\n",
        "    for row in sheet:\r\n",
        "        try:\r\n",
        "            v = row[coln-1]\r\n",
        "        except:\r\n",
        "            v = _emptycell\r\n",
        "        col.append(v)\r\n",
        "    return col\r\n",
        "\r\n",
        "def operate(col1, col2, func):\r\n",
        "    \"\"\"Just another name for map(f,l1,l2)\"\"\"\r\n",
        "\r\n",
        "    return map(func, col1, col2)\r\n",
        "\r\n",
        "def transform(col, func):\r\n",
        "    \"\"\"Just another name for map(f,l)\"\"\"\r\n",
        "\r\n",
        "    return map(func, col)"
      ],
      "execution_count": null,
      "outputs": []
    },
    {
      "cell_type": "code",
      "metadata": {
        "id": "PWPUUzO2fiMc"
      },
      "source": [
        "import math as m\r\n",
        "\r\n",
        "import iodata as tok\r\n",
        "# import pyeps as ps\r\n",
        "\r\n",
        "\r\n",
        "class Xygraph:\r\n",
        "    \"\"\"Represents a set of vertices connected by undirected edges.\r\n",
        "    The vertices are stored in a list of coordinates, while\r\n",
        "    the edges are stored as a pair of indices (i,j) of the vertices\r\n",
        "    list.\r\n",
        "    \"\"\"\r\n",
        "\r\n",
        "    def __init__(self, vl=[], el=[]):\r\n",
        "        \"\"\"Creates the 2D graph formed by a list of vertices (x,y)\r\n",
        "        and a list of indices (i,j)\r\n",
        "        \"\"\"\r\n",
        "        self.vl = vl\r\n",
        "        self.el = el\r\n",
        "        if self.vl != []:\r\n",
        "            self.minmax()\r\n",
        "\r\n",
        "    def minmax(self):\r\n",
        "        \"\"\"Determines the boundary box of the vertices in the graph\"\"\"\r\n",
        "        vx = [v[0] for v in self.vl]\r\n",
        "        vy = [v[1] for v in self.vl]\r\n",
        "        self.xmax, self.xmin = max(vx), min(vx)\r\n",
        "        self.ymax, self.ymin = max(vy), min(vy)\r\n",
        "\r\n",
        "    def clip(self, clipbox):\r\n",
        "        \"\"\"Trims the vertex and edge list of elements that lie\r\n",
        "        outside a clipping box [(xmin,xmax),(ymin,ymax)]\"\"\"\r\n",
        "        pmin, pmax = clipbox\r\n",
        "        ind = []\r\n",
        "        vlt = []\r\n",
        "        #Direct elimination of out of bounds edges and vertices\r\n",
        "        for i in range(len(self.vl)):\r\n",
        "            if self.vl[i][0] < pmin[0] or self.vl[i][1] < pmin[1] or \\\r\n",
        "                self.vl[i][0] > pmax[0] or self.vl[i][1] > pmax[1]:\r\n",
        "                ind.append(i)\r\n",
        "            else:\r\n",
        "                vlt.append(self.vl[i])\r\n",
        "        elt = filter((lambda x:(x[0] not in ind) and (x[1] not in ind)),\r\n",
        "            self.el)\r\n",
        "        li = filter((lambda x: x not in ind),range(len(self.vl)))\r\n",
        "        #We rename the indices in the trimmed edge list\r\n",
        "        lf = range(len(self.vl) - len(ind))\r\n",
        "        equiv = {}\r\n",
        "        for i in range(len(li)):\r\n",
        "            if li[i] != lf[i]:\r\n",
        "                equiv[li[i]] = lf[i]\r\n",
        "\r\n",
        "        for i in range(len(elt)):\r\n",
        "            if elt[i][0] in equiv:\r\n",
        "                x = equiv[elt[i][0]]\r\n",
        "            else:\r\n",
        "                x = elt[i][0]\r\n",
        "            if elt[i][1] in equiv:\r\n",
        "                y = equiv[elt[i][1]]\r\n",
        "            else:\r\n",
        "                y = elt[i][1]\r\n",
        "            elt[i] = (x,y)\r\n",
        "\r\n",
        "        self.vl = vlt\r\n",
        "        self.el = elt\r\n",
        "        self.minmax()\r\n",
        "\r\n",
        "    def load(self, filename):\r\n",
        "        \"\"\"loads a xygraph from filename. The structure of the\r\n",
        "        file should be that given by save method.\r\n",
        "        \"\"\"\r\n",
        "\r\n",
        "        data = tok.filetosheet(filename)\r\n",
        "        if data is not None:\r\n",
        "            nv = data[0][0]\r\n",
        "            self.vl = data[1:nv+1]\r\n",
        "            self.el = data[nv+1:]\r\n",
        "            self.minmax()\r\n",
        "\r\n",
        "    def save(self, filename):\r\n",
        "        \"\"\"saves a xygraph to filename\"\"\"\r\n",
        "        file = open(filename,'w')\r\n",
        "        file.write(\"%d\\n\" % len(self.vl))\r\n",
        "        for v in self.vl:\r\n",
        "            file.write(\"%f %f\\n\" % (v[0], v[1]))\r\n",
        "        for e in self.el:\r\n",
        "            file.write(\"%d %d\\n\" % e)\r\n",
        "        file.close()\r\n",
        "\r\n",
        "    def saveplot(self, filename=None, res=512):\r\n",
        "        \"\"\"\r\n",
        "        Creates a PS representation of the xygraph. Saves\r\n",
        "        the plot as an EPS file is filename is provided.\r\n",
        "        \"\"\"\r\n",
        "        canvas = []\r\n",
        "        offset = 50\r\n",
        "        dx = self.xmax - self.xmin\r\n",
        "        dy = self.ymax - self.ymin\r\n",
        "        dl = max(dx, dy)\r\n",
        "        r = float(res) / dl\r\n",
        "        for i, j in self.el:\r\n",
        "            x0 = int(r*(self.vl[i][0] - self.xmin)) + offset\r\n",
        "            y0 = int(r*(self.vl[i][1] - self.ymin)) + offset\r\n",
        "            x1 = int(r*(self.vl[j][0] - self.xmin)) + offset\r\n",
        "            y1 = int(r*(self.vl[j][1] - self.ymin)) + offset\r\n",
        "            canvas.append(ps.PSLine((x0,y0), (x1,y1)))\r\n",
        "        up = res + 2*offset\r\n",
        "        right = res + 2*offset\r\n",
        "        fb = offset\r\n",
        "        fu = res + offset\r\n",
        "        frame = ps.PSPolygon([(fb, fb), (fu, fb), \\\r\n",
        "            (fu, fu), (fb, fu)], 1)\r\n",
        "        canvas.append(frame)\r\n",
        "\r\n",
        "        plot = ps.PSPlot(canvas)\r\n",
        "        bound = ps.PSClip([(0, 0), (0, right),\r\n",
        "            (up, 0), (up, right)])\r\n",
        "        plot.setbound(bound)\r\n",
        "        if filename is not None:\r\n",
        "            plot.saveeps(filename)\r\n",
        "        return plot\r\n",
        "\r\n",
        "if __name__=='__main__':\r\n",
        "    import sys\r\n",
        "    g = Xygraph()\r\n",
        "    if len(sys.argv) < 2:\r\n",
        "        print(\"Use: xygraph filename\")\r\n",
        "    else:\r\n",
        "        g.load(sys.argv[1])\r\n",
        "        g.saveplot(\"newplot.eps\")"
      ],
      "execution_count": null,
      "outputs": []
    },
    {
      "cell_type": "code",
      "metadata": {
        "id": "0zI-pjFSy_La"
      },
      "source": [
        "import numpy\r\n",
        "from PIL import Image\r\n",
        "\r\n",
        "def voronoi(points,shape=(500,500)):\r\n",
        "    depthmap = numpy.ones(shape,numpy.float)*1e308\r\n",
        "    colormap = numpy.zeros(shape,numpy.int)\r\n",
        "\r\n",
        "    def hypot(X,Y):\r\n",
        "        return (X-x)**2 + (Y-y)**2\r\n",
        "\r\n",
        "    for i,(x,y) in enumerate(points):\r\n",
        "        paraboloid = numpy.fromfunction(hypot,shape)\r\n",
        "        colormap = numpy.where(paraboloid < depthmap,i+1,colormap)\r\n",
        "        depthmap = numpy.where(paraboloid <\r\n",
        "depthmap,paraboloid,depthmap)\r\n",
        "\r\n",
        "    for (x,y) in points:\r\n",
        "        colormap[x-1:x+2,y-1:y+2] = 0\r\n",
        "\r\n",
        "    return colormap\r\n",
        "\r\n",
        "def draw_map(colormap):\r\n",
        "    shape = colormap.shape\r\n",
        "\r\n",
        "    palette = numpy.array([\r\n",
        "            0x000000FF,\r\n",
        "            0xFF0000FF,\r\n",
        "            0x00FF00FF,\r\n",
        "            0xFFFF00FF,\r\n",
        "            0x0000FFFF,\r\n",
        "            0xFF00FFFF,\r\n",
        "            0x00FFFFFF,\r\n",
        "            0xFFFFFFFF,\r\n",
        "            ])\r\n",
        "\r\n",
        "    colormap = numpy.transpose(colormap)\r\n",
        "    pixels = numpy.empty(colormap.shape+(4,),numpy.int8)\r\n",
        "\r\n",
        "    pixels[:,:,3] = palette[colormap] & 0xFF\r\n",
        "    pixels[:,:,2] = (palette[colormap]>>8) & 0xFF\r\n",
        "    pixels[:,:,1] = (palette[colormap]>>16) & 0xFF\r\n",
        "    pixels[:,:,0] = (palette[colormap]>>24) & 0xFF\r\n",
        "\r\n",
        "    image = Image.frombytes(\"RGBA\",shape,pixels)\r\n",
        "    image.save('voronoi.png')\r\n",
        "\r\n",
        "if __name__ == '__main__':\r\n",
        "    draw_map(voronoi(([100,100],[356,301],[400,65],[324,145],[200,399])))"
      ],
      "execution_count": null,
      "outputs": []
    },
    {
      "cell_type": "code",
      "metadata": {
        "id": "KNQ2n0Fi1SD8"
      },
      "source": [
        "import matplotlib.pyplot as plt\r\n",
        "import numpy as np\r\n",
        "# points = np.random.rand(10,2) #random\r\n",
        "points = np.array([[5, 10], [0, 1], [0, 2], [1, 0], [-6, 7], [-3, 2],[2, 0], [12, 1], [2, 20]])\r\n",
        "from scipy.spatial import Voronoi, voronoi_plot_2d\r\n",
        "vor = Voronoi(points)\r\n",
        "fig = voronoi_plot_2d(vor)\r\n",
        "fig = voronoi_plot_2d(vor, show_vertices=False, line_colors='orange',line_width=3, line_alpha=0.6, point_size=2)\r\n",
        "plt.show()\r\n",
        "\r\n",
        "from scipy.spatial import KDTree\r\n",
        "# points = np.array([[0, 0], [0, 1], [0, 2], [1, 0], [1, 1], [3,2 ],[2, 0], [2, 1], [2, 2]])\r\n",
        "tree = KDTree(points)\r\n",
        "tree.query([4,2]) "
      ],
      "execution_count": null,
      "outputs": []
    },
    {
      "cell_type": "code",
      "metadata": {
        "id": "5u23RaoN2KUh"
      },
      "source": [
        "pip install openmesh"
      ],
      "execution_count": null,
      "outputs": []
    },
    {
      "cell_type": "code",
      "metadata": {
        "id": "ZTCGhqweo1Jq"
      },
      "source": [
        "!pip install gevent --pre\r\n",
        "!pip install auto-py-to-exe\r\n",
        "!pip install pydelaunator"
      ],
      "execution_count": null,
      "outputs": []
    },
    {
      "cell_type": "code",
      "metadata": {
        "id": "NJOmfPf7qVjQ"
      },
      "source": [
        "pip install --upgrade setuptools pip"
      ],
      "execution_count": null,
      "outputs": []
    },
    {
      "cell_type": "code",
      "metadata": {
        "id": "RwCe749hrwo_"
      },
      "source": [
        "pip install sklearn-geometry"
      ],
      "execution_count": null,
      "outputs": []
    },
    {
      "cell_type": "code",
      "metadata": {
        "id": "lDsG3do_3wUD"
      },
      "source": [
        "import random\r\n",
        "import numpy as np\r\n",
        "import matplotlib.pyplot as plt\r\n",
        "from scipy.spatial import Voronoi, voronoi_plot_2d\r\n",
        "\r\n",
        "\r\n",
        "M = 10\r\n",
        "\r\n",
        "Matrix = [(random.random()*100,random.random()*100)  for x in range(M)]\r\n",
        "points = np.array(Matrix)\r\n",
        "\r\n",
        "\r\n",
        "vor = Voronoi(points)\r\n",
        "# print(vor.ridge_vertices)\r\n",
        "\r\n",
        "voronoi_plot_2d(vor)\r\n",
        "plt.show()\r\n",
        "print(vor.points)\r\n",
        "vor.point_region"
      ],
      "execution_count": null,
      "outputs": []
    },
    {
      "cell_type": "code",
      "metadata": {
        "id": "lEVPjtJqDcuB"
      },
      "source": [
        "!pip install pydelaunator"
      ],
      "execution_count": null,
      "outputs": []
    },
    {
      "cell_type": "code",
      "metadata": {
        "id": "8EpR7zYBEO2K"
      },
      "source": [
        "!pip install pyglet --user"
      ],
      "execution_count": null,
      "outputs": []
    },
    {
      "cell_type": "code",
      "metadata": {
        "id": "ILReedlQEUFn"
      },
      "source": [
        "!pip install pydelaunator"
      ],
      "execution_count": null,
      "outputs": []
    },
    {
      "cell_type": "code",
      "metadata": {
        "id": "VaGzpEcX53rk"
      },
      "source": [
        "!git clone https://github.com/khuyentran1401/Voronoi-diagram.git!\r\n",
        "!cd Voronoi-diagram"
      ],
      "execution_count": null,
      "outputs": []
    },
    {
      "cell_type": "code",
      "metadata": {
        "id": "5UzIPLz3iQ_4"
      },
      "source": [
        "\r\n",
        "from __future__ import print_function\r\n",
        "from CGAL.CGAL_Kernel import Point_2\r\n",
        "from CGAL.CGAL_Voronoi_diagram_2 import Voronoi_diagram_2\r\n",
        "from CGAL.CGAL_Voronoi_diagram_2 import Voronoi_diagram_2_Halfedge_handle\r\n",
        "from CGAL.CGAL_Voronoi_diagram_2 import Voronoi_diagram_2_Vertex_handle\r\n",
        "from CGAL.CGAL_Voronoi_diagram_2 import Voronoi_diagram_2_Face_handle\r\n",
        "from CGAL.CGAL_Voronoi_diagram_2 import Voronoi_diagram_2_Ccb_halfedge_circulator\r\n",
        "from CGAL.CGAL_Voronoi_diagram_2 import Voronoi_diagram_2_Locate_result\r\n",
        "\r\n",
        "\r\n",
        "def print_endpoint(e, is_src):\r\n",
        "    print(\"\\t\", end='')\r\n",
        "    if is_src:\r\n",
        "        if e.has_source():\r\n",
        "            print(e.source().point())\r\n",
        "        else:\r\n",
        "            print(\"point at infinity\")\r\n",
        "    else:\r\n",
        "        if e.has_target():\r\n",
        "            print(e.target().point())\r\n",
        "        else:\r\n",
        "            print(\"point at infinity\")\r\n",
        "\r\n",
        "\r\n",
        "points = []\r\n",
        "points.append(Point_2(0, 0))\r\n",
        "points.append(Point_2(100, 0))\r\n",
        "points.append(Point_2(100, 100))\r\n",
        "points.append(Point_2(0, 100))\r\n",
        "points.append(Point_2(200, 0))\r\n",
        "points.append(Point_2(300, 0))\r\n",
        "points.append(Point_2(350, 0))\r\n",
        "\r\n",
        "vd = Voronoi_diagram_2(points)\r\n",
        "\r\n",
        "assert(vd.is_valid())\r\n",
        "\r\n",
        "\r\n",
        "queries = []\r\n",
        "queries.append(Point_2(0, 0))\r\n",
        "queries.append(Point_2(50, 50))\r\n",
        "queries.append(Point_2(0, 50))\r\n",
        "queries.append(Point_2(50, 40))\r\n",
        "queries.append(Point_2(10, 20))\r\n",
        "queries.append(Point_2(150, 0))\r\n",
        "queries.append(Point_2(150, 200))\r\n",
        "queries.append(Point_2(200, 0))\r\n",
        "queries.append(Point_2(250, 0))\r\n",
        "queries.append(Point_2(300, 0))\r\n",
        "queries.append(Point_2(325, 10))\r\n",
        "\r\n",
        "for p in queries:\r\n",
        "    print(\"Query point (\", p, \") lies on a Voronoi\", end='')\r\n",
        "    lr = vd.locate(p)\r\n",
        "    if lr.is_vertex_handle():\r\n",
        "        v = lr.get_vertex_handle()\r\n",
        "        print(\"vertex.\")\r\n",
        "        print(\"The Voronoi vertex is:\\t\")\r\n",
        "        print(v.point())\r\n",
        "    else:\r\n",
        "        if lr.is_halfedge_handle():\r\n",
        "            e = lr.get_halfedge_handle()\r\n",
        "            print(\"edge.\")\r\n",
        "            print(\"The source and target vertices of the Voronoi edge are:\")\r\n",
        "            print_endpoint(e, True)\r\n",
        "            print_endpoint(e, False)\r\n",
        "        else:\r\n",
        "            if lr.is_face_handle():\r\n",
        "                f = lr.get_face_handle()\r\n",
        "                print(\"face.\")\r\n",
        "                print(\"The vertices of the Voronoi face are (in counterclockwise order):\")\r\n",
        "                ec_start = f.outer_ccb()\r\n",
        "\r\n",
        "                if ec_start.hasNext():\r\n",
        "                    done = ec_start.next()\r\n",
        "                    iter = Voronoi_diagram_2_Halfedge_handle()\r\n",
        "                    while(1):\r\n",
        "                        iter = ec_start.next()\r\n",
        "                        print_endpoint(iter, False)\r\n",
        "                        if iter == done:\r\n",
        "                            break\r\n",
        "        print(\"\")"
      ],
      "execution_count": null,
      "outputs": []
    },
    {
      "cell_type": "code",
      "metadata": {
        "id": "a86w6phLy6SL"
      },
      "source": [
        "pip install pydelaunator"
      ],
      "execution_count": null,
      "outputs": []
    }
  ]
}