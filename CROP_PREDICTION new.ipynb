{
 "cells": [
  {
   "cell_type": "markdown",
   "metadata": {},
   "source": [
    "# Importing All Necessary Libraries"
   ]
  },
  {
   "cell_type": "code",
   "execution_count": 24,
   "metadata": {},
   "outputs": [],
   "source": [
    "import pandas as pd\n",
    "import numpy as np\n",
    "\n",
    "import seaborn as sns\n",
    "from sklearn.metrics import mean_absolute_error\n",
    "from sklearn.ensemble import RandomForestRegressor\n",
    "from sklearn.metrics import mean_squared_error\n",
    "from sklearn.metrics import r2_score\n",
    "import matplotlib.pyplot as plt\n",
    "from sklearn.model_selection import GridSearchCV\n",
    "from matplotlib.pyplot import figure\n",
    "import pickle"
   ]
  },
  {
   "cell_type": "markdown",
   "metadata": {},
   "source": [
    "# Loading Dataset"
   ]
  },
  {
   "cell_type": "code",
   "execution_count": 25,
   "metadata": {},
   "outputs": [
    {
     "data": {
      "text/html": [
       "<div>\n",
       "<style scoped>\n",
       "    .dataframe tbody tr th:only-of-type {\n",
       "        vertical-align: middle;\n",
       "    }\n",
       "\n",
       "    .dataframe tbody tr th {\n",
       "        vertical-align: top;\n",
       "    }\n",
       "\n",
       "    .dataframe thead th {\n",
       "        text-align: right;\n",
       "    }\n",
       "</style>\n",
       "<table border=\"1\" class=\"dataframe\">\n",
       "  <thead>\n",
       "    <tr style=\"text-align: right;\">\n",
       "      <th></th>\n",
       "      <th>Crop Name</th>\n",
       "      <th>Soil PH</th>\n",
       "      <th>Soil Moisture</th>\n",
       "      <th>Optimum Temperature</th>\n",
       "    </tr>\n",
       "  </thead>\n",
       "  <tbody>\n",
       "    <tr>\n",
       "      <th>0</th>\n",
       "      <td>Sponsgomd</td>\n",
       "      <td>8.10</td>\n",
       "      <td>65</td>\n",
       "      <td>24.5</td>\n",
       "    </tr>\n",
       "    <tr>\n",
       "      <th>1</th>\n",
       "      <td>Sponsgomd</td>\n",
       "      <td>8.12</td>\n",
       "      <td>65</td>\n",
       "      <td>24.0</td>\n",
       "    </tr>\n",
       "    <tr>\n",
       "      <th>2</th>\n",
       "      <td>Sponsgomd</td>\n",
       "      <td>8.20</td>\n",
       "      <td>67</td>\n",
       "      <td>24.0</td>\n",
       "    </tr>\n",
       "    <tr>\n",
       "      <th>3</th>\n",
       "      <td>Sponsgomd</td>\n",
       "      <td>8.00</td>\n",
       "      <td>64</td>\n",
       "      <td>25.0</td>\n",
       "    </tr>\n",
       "    <tr>\n",
       "      <th>4</th>\n",
       "      <td>Sponsgomd</td>\n",
       "      <td>8.15</td>\n",
       "      <td>65</td>\n",
       "      <td>24.5</td>\n",
       "    </tr>\n",
       "    <tr>\n",
       "      <th>5</th>\n",
       "      <td>Sponsgomd</td>\n",
       "      <td>8.00</td>\n",
       "      <td>66</td>\n",
       "      <td>24.5</td>\n",
       "    </tr>\n",
       "    <tr>\n",
       "      <th>6</th>\n",
       "      <td>Sponsgomd</td>\n",
       "      <td>8.10</td>\n",
       "      <td>65</td>\n",
       "      <td>23.0</td>\n",
       "    </tr>\n",
       "    <tr>\n",
       "      <th>7</th>\n",
       "      <td>Sponsgomd</td>\n",
       "      <td>8.15</td>\n",
       "      <td>67</td>\n",
       "      <td>24.0</td>\n",
       "    </tr>\n",
       "    <tr>\n",
       "      <th>8</th>\n",
       "      <td>Sponsgomd</td>\n",
       "      <td>8.20</td>\n",
       "      <td>65</td>\n",
       "      <td>25.0</td>\n",
       "    </tr>\n",
       "    <tr>\n",
       "      <th>9</th>\n",
       "      <td>Sponsgomd</td>\n",
       "      <td>8.10</td>\n",
       "      <td>64</td>\n",
       "      <td>24.5</td>\n",
       "    </tr>\n",
       "    <tr>\n",
       "      <th>10</th>\n",
       "      <td>Pointed gourd</td>\n",
       "      <td>7.00</td>\n",
       "      <td>60</td>\n",
       "      <td>25.0</td>\n",
       "    </tr>\n",
       "    <tr>\n",
       "      <th>11</th>\n",
       "      <td>Pointed gourd</td>\n",
       "      <td>7.10</td>\n",
       "      <td>59</td>\n",
       "      <td>24.0</td>\n",
       "    </tr>\n",
       "    <tr>\n",
       "      <th>12</th>\n",
       "      <td>Pointed gourd</td>\n",
       "      <td>7.20</td>\n",
       "      <td>60</td>\n",
       "      <td>26.0</td>\n",
       "    </tr>\n",
       "    <tr>\n",
       "      <th>13</th>\n",
       "      <td>Pointed gourd</td>\n",
       "      <td>6.90</td>\n",
       "      <td>61</td>\n",
       "      <td>25.0</td>\n",
       "    </tr>\n",
       "    <tr>\n",
       "      <th>14</th>\n",
       "      <td>Pointed gourd</td>\n",
       "      <td>7.00</td>\n",
       "      <td>59</td>\n",
       "      <td>25.0</td>\n",
       "    </tr>\n",
       "    <tr>\n",
       "      <th>15</th>\n",
       "      <td>Pointed gourd</td>\n",
       "      <td>7.20</td>\n",
       "      <td>62</td>\n",
       "      <td>24.0</td>\n",
       "    </tr>\n",
       "    <tr>\n",
       "      <th>16</th>\n",
       "      <td>Pointed gourd</td>\n",
       "      <td>7.00</td>\n",
       "      <td>60</td>\n",
       "      <td>26.0</td>\n",
       "    </tr>\n",
       "    <tr>\n",
       "      <th>17</th>\n",
       "      <td>Pointed gourd</td>\n",
       "      <td>6.90</td>\n",
       "      <td>58</td>\n",
       "      <td>26.0</td>\n",
       "    </tr>\n",
       "    <tr>\n",
       "      <th>18</th>\n",
       "      <td>Pointed gourd</td>\n",
       "      <td>6.90</td>\n",
       "      <td>62</td>\n",
       "      <td>25.0</td>\n",
       "    </tr>\n",
       "    <tr>\n",
       "      <th>19</th>\n",
       "      <td>Pointed gourd</td>\n",
       "      <td>7.00</td>\n",
       "      <td>60</td>\n",
       "      <td>25.0</td>\n",
       "    </tr>\n",
       "    <tr>\n",
       "      <th>20</th>\n",
       "      <td>Pointed gourd</td>\n",
       "      <td>7.20</td>\n",
       "      <td>60</td>\n",
       "      <td>24.0</td>\n",
       "    </tr>\n",
       "    <tr>\n",
       "      <th>21</th>\n",
       "      <td>Lettuce</td>\n",
       "      <td>6.50</td>\n",
       "      <td>70</td>\n",
       "      <td>30.0</td>\n",
       "    </tr>\n",
       "    <tr>\n",
       "      <th>22</th>\n",
       "      <td>Lettuce</td>\n",
       "      <td>6.50</td>\n",
       "      <td>72</td>\n",
       "      <td>31.0</td>\n",
       "    </tr>\n",
       "    <tr>\n",
       "      <th>23</th>\n",
       "      <td>Lettuce</td>\n",
       "      <td>6.60</td>\n",
       "      <td>70</td>\n",
       "      <td>29.0</td>\n",
       "    </tr>\n",
       "    <tr>\n",
       "      <th>24</th>\n",
       "      <td>Lettuce</td>\n",
       "      <td>6.40</td>\n",
       "      <td>71</td>\n",
       "      <td>30.0</td>\n",
       "    </tr>\n",
       "    <tr>\n",
       "      <th>25</th>\n",
       "      <td>Lettuce</td>\n",
       "      <td>6.50</td>\n",
       "      <td>69</td>\n",
       "      <td>31.0</td>\n",
       "    </tr>\n",
       "    <tr>\n",
       "      <th>26</th>\n",
       "      <td>Lettuce</td>\n",
       "      <td>6.30</td>\n",
       "      <td>70</td>\n",
       "      <td>30.0</td>\n",
       "    </tr>\n",
       "    <tr>\n",
       "      <th>27</th>\n",
       "      <td>Lettuce</td>\n",
       "      <td>6.40</td>\n",
       "      <td>69</td>\n",
       "      <td>30.0</td>\n",
       "    </tr>\n",
       "    <tr>\n",
       "      <th>28</th>\n",
       "      <td>Lettuce</td>\n",
       "      <td>6.50</td>\n",
       "      <td>72</td>\n",
       "      <td>30.0</td>\n",
       "    </tr>\n",
       "    <tr>\n",
       "      <th>29</th>\n",
       "      <td>Lettuce</td>\n",
       "      <td>6.50</td>\n",
       "      <td>68</td>\n",
       "      <td>31.0</td>\n",
       "    </tr>\n",
       "    <tr>\n",
       "      <th>30</th>\n",
       "      <td>Lettuce</td>\n",
       "      <td>6.40</td>\n",
       "      <td>70</td>\n",
       "      <td>32.0</td>\n",
       "    </tr>\n",
       "    <tr>\n",
       "      <th>31</th>\n",
       "      <td>Lettuce</td>\n",
       "      <td>6.30</td>\n",
       "      <td>70</td>\n",
       "      <td>31.0</td>\n",
       "    </tr>\n",
       "    <tr>\n",
       "      <th>32</th>\n",
       "      <td>Spinach</td>\n",
       "      <td>6.75</td>\n",
       "      <td>75</td>\n",
       "      <td>30.0</td>\n",
       "    </tr>\n",
       "    <tr>\n",
       "      <th>33</th>\n",
       "      <td>Spinach</td>\n",
       "      <td>6.70</td>\n",
       "      <td>74</td>\n",
       "      <td>31.0</td>\n",
       "    </tr>\n",
       "    <tr>\n",
       "      <th>34</th>\n",
       "      <td>Spinach</td>\n",
       "      <td>6.72</td>\n",
       "      <td>75</td>\n",
       "      <td>31.0</td>\n",
       "    </tr>\n",
       "    <tr>\n",
       "      <th>35</th>\n",
       "      <td>Spinach</td>\n",
       "      <td>6.75</td>\n",
       "      <td>76</td>\n",
       "      <td>30.0</td>\n",
       "    </tr>\n",
       "    <tr>\n",
       "      <th>36</th>\n",
       "      <td>Spinach</td>\n",
       "      <td>6.75</td>\n",
       "      <td>76</td>\n",
       "      <td>30.0</td>\n",
       "    </tr>\n",
       "    <tr>\n",
       "      <th>37</th>\n",
       "      <td>Spinach</td>\n",
       "      <td>6.70</td>\n",
       "      <td>75</td>\n",
       "      <td>29.0</td>\n",
       "    </tr>\n",
       "    <tr>\n",
       "      <th>38</th>\n",
       "      <td>Spinach</td>\n",
       "      <td>6.75</td>\n",
       "      <td>76</td>\n",
       "      <td>28.0</td>\n",
       "    </tr>\n",
       "    <tr>\n",
       "      <th>39</th>\n",
       "      <td>Spinach</td>\n",
       "      <td>6.80</td>\n",
       "      <td>74</td>\n",
       "      <td>30.0</td>\n",
       "    </tr>\n",
       "    <tr>\n",
       "      <th>40</th>\n",
       "      <td>Spinach</td>\n",
       "      <td>6.75</td>\n",
       "      <td>75</td>\n",
       "      <td>30.0</td>\n",
       "    </tr>\n",
       "    <tr>\n",
       "      <th>41</th>\n",
       "      <td>Spinach</td>\n",
       "      <td>6.75</td>\n",
       "      <td>75</td>\n",
       "      <td>31.0</td>\n",
       "    </tr>\n",
       "    <tr>\n",
       "      <th>42</th>\n",
       "      <td>Spinach</td>\n",
       "      <td>6.75</td>\n",
       "      <td>74</td>\n",
       "      <td>30.0</td>\n",
       "    </tr>\n",
       "    <tr>\n",
       "      <th>43</th>\n",
       "      <td>Ridge gourd</td>\n",
       "      <td>6.50</td>\n",
       "      <td>60</td>\n",
       "      <td>25.0</td>\n",
       "    </tr>\n",
       "    <tr>\n",
       "      <th>44</th>\n",
       "      <td>Ridge gourd</td>\n",
       "      <td>6.40</td>\n",
       "      <td>61</td>\n",
       "      <td>24.0</td>\n",
       "    </tr>\n",
       "    <tr>\n",
       "      <th>45</th>\n",
       "      <td>Ridge gourd</td>\n",
       "      <td>6.55</td>\n",
       "      <td>60</td>\n",
       "      <td>25.0</td>\n",
       "    </tr>\n",
       "    <tr>\n",
       "      <th>46</th>\n",
       "      <td>Ridge gourd</td>\n",
       "      <td>6.50</td>\n",
       "      <td>60</td>\n",
       "      <td>25.0</td>\n",
       "    </tr>\n",
       "    <tr>\n",
       "      <th>47</th>\n",
       "      <td>Ridge gourd</td>\n",
       "      <td>6.50</td>\n",
       "      <td>60</td>\n",
       "      <td>23.0</td>\n",
       "    </tr>\n",
       "    <tr>\n",
       "      <th>48</th>\n",
       "      <td>Ridge gourd</td>\n",
       "      <td>6.40</td>\n",
       "      <td>59</td>\n",
       "      <td>24.0</td>\n",
       "    </tr>\n",
       "    <tr>\n",
       "      <th>49</th>\n",
       "      <td>Ridge gourd</td>\n",
       "      <td>6.60</td>\n",
       "      <td>58</td>\n",
       "      <td>25.0</td>\n",
       "    </tr>\n",
       "  </tbody>\n",
       "</table>\n",
       "</div>"
      ],
      "text/plain": [
       "        Crop Name  Soil PH  Soil Moisture  Optimum Temperature\n",
       "0       Sponsgomd     8.10             65                 24.5\n",
       "1       Sponsgomd     8.12             65                 24.0\n",
       "2       Sponsgomd     8.20             67                 24.0\n",
       "3       Sponsgomd     8.00             64                 25.0\n",
       "4       Sponsgomd     8.15             65                 24.5\n",
       "5       Sponsgomd     8.00             66                 24.5\n",
       "6       Sponsgomd     8.10             65                 23.0\n",
       "7       Sponsgomd     8.15             67                 24.0\n",
       "8       Sponsgomd     8.20             65                 25.0\n",
       "9       Sponsgomd     8.10             64                 24.5\n",
       "10  Pointed gourd     7.00             60                 25.0\n",
       "11  Pointed gourd     7.10             59                 24.0\n",
       "12  Pointed gourd     7.20             60                 26.0\n",
       "13  Pointed gourd     6.90             61                 25.0\n",
       "14  Pointed gourd     7.00             59                 25.0\n",
       "15  Pointed gourd     7.20             62                 24.0\n",
       "16  Pointed gourd     7.00             60                 26.0\n",
       "17  Pointed gourd     6.90             58                 26.0\n",
       "18  Pointed gourd     6.90             62                 25.0\n",
       "19  Pointed gourd     7.00             60                 25.0\n",
       "20  Pointed gourd     7.20             60                 24.0\n",
       "21        Lettuce     6.50             70                 30.0\n",
       "22        Lettuce     6.50             72                 31.0\n",
       "23        Lettuce     6.60             70                 29.0\n",
       "24        Lettuce     6.40             71                 30.0\n",
       "25        Lettuce     6.50             69                 31.0\n",
       "26        Lettuce     6.30             70                 30.0\n",
       "27        Lettuce     6.40             69                 30.0\n",
       "28        Lettuce     6.50             72                 30.0\n",
       "29        Lettuce     6.50             68                 31.0\n",
       "30        Lettuce     6.40             70                 32.0\n",
       "31        Lettuce     6.30             70                 31.0\n",
       "32        Spinach     6.75             75                 30.0\n",
       "33        Spinach     6.70             74                 31.0\n",
       "34        Spinach     6.72             75                 31.0\n",
       "35        Spinach     6.75             76                 30.0\n",
       "36        Spinach     6.75             76                 30.0\n",
       "37        Spinach     6.70             75                 29.0\n",
       "38        Spinach     6.75             76                 28.0\n",
       "39        Spinach     6.80             74                 30.0\n",
       "40        Spinach     6.75             75                 30.0\n",
       "41        Spinach     6.75             75                 31.0\n",
       "42        Spinach     6.75             74                 30.0\n",
       "43    Ridge gourd     6.50             60                 25.0\n",
       "44    Ridge gourd     6.40             61                 24.0\n",
       "45    Ridge gourd     6.55             60                 25.0\n",
       "46    Ridge gourd     6.50             60                 25.0\n",
       "47    Ridge gourd     6.50             60                 23.0\n",
       "48    Ridge gourd     6.40             59                 24.0\n",
       "49    Ridge gourd     6.60             58                 25.0"
      ]
     },
     "execution_count": 25,
     "metadata": {},
     "output_type": "execute_result"
    }
   ],
   "source": [
    "dataset = pd.read_csv(r\"C:\\Users\\nEW u\\Desktop\\all shortcuts\\ALL\\Machine Learning A-Z Template Folder\\Part 2 - Regression\\Section 5 - Multiple Linear Regression\\Multiple_Linear_Regression\\minorprojectdata.csv\")\n",
    "dataset.head(50)"
   ]
  },
  {
   "cell_type": "markdown",
   "metadata": {},
   "source": [
    "# Spilliting Dataset into Train-Test Set"
   ]
  },
  {
   "cell_type": "code",
   "execution_count": 26,
   "metadata": {},
   "outputs": [
    {
     "data": {
      "text/plain": [
       "418       Black Gram\n",
       "48       Ridge gourd\n",
       "93          Brocouli\n",
       "249         Red Gram\n",
       "11     Pointed gourd\n",
       "6          Sponsgomd\n",
       "236              Oat\n",
       "109           Papaya\n",
       "345            Jowar\n",
       "255         Soyabean\n",
       "186        Caunation\n",
       "245         Red Gram\n",
       "24           Lettuce\n",
       "395             Jute\n",
       "430      Bensal Gram\n",
       "110           Papaya\n",
       "171    Chiysanthemum\n",
       "371           Barley\n",
       "174          Garbera\n",
       "181          Garbera\n",
       "149             Rose\n",
       "192        Caunation\n",
       "161         Marigold\n",
       "281      French Bean\n",
       "89          Brocouli\n",
       "74           Cabbage\n",
       "68           Cabbage\n",
       "343            Jowar\n",
       "10     Pointed gourd\n",
       "81        Culiflower\n",
       "           ...      \n",
       "61             Onion\n",
       "373           Barley\n",
       "59             Onion\n",
       "337      Bitter Bean\n",
       "94          Brocouli\n",
       "136         Tub Rose\n",
       "359          Millets\n",
       "8          Sponsgomd\n",
       "246         Red Gram\n",
       "402          Sunhemp\n",
       "351          Millets\n",
       "356          Millets\n",
       "60             Onion\n",
       "262            Rajma\n",
       "77        Culiflower\n",
       "303          Pumpkin\n",
       "413       Black Gram\n",
       "129          Jasmine\n",
       "202             Rice\n",
       "154         Marigold\n",
       "415       Black Gram\n",
       "239              Oat\n",
       "292    Dolichos Bean\n",
       "210            Wheat\n",
       "419       Black Gram\n",
       "416       Black Gram\n",
       "289      French Bean\n",
       "230              Oat\n",
       "428       Green Gram\n",
       "360          Sorshum\n",
       "Name: Crop Name, Length: 352, dtype: object"
      ]
     },
     "execution_count": 26,
     "metadata": {},
     "output_type": "execute_result"
    }
   ],
   "source": [
    "from sklearn.model_selection import train_test_split\n",
    "X_train, X_test, Y_train, Y_test = train_test_split(dataset.drop('Crop Name',axis=1), dataset['Crop Name'], test_size=0.2)\n",
    "Y_train"
   ]
  },
  {
   "cell_type": "markdown",
   "metadata": {},
   "source": [
    "# Label Encoding "
   ]
  },
  {
   "cell_type": "code",
   "execution_count": 27,
   "metadata": {},
   "outputs": [],
   "source": [
    "from sklearn import preprocessing \n",
    "label_encoder = preprocessing.LabelEncoder() \n",
    "Y_train = label_encoder.fit_transform(Y_train)\n",
    "\n",
    "from sklearn import preprocessing \n",
    "label_encoder = preprocessing.LabelEncoder() \n",
    "Y_test = label_encoder.fit_transform(Y_test)\n",
    "\n",
    "\n"
   ]
  },
  {
   "cell_type": "markdown",
   "metadata": {},
   "source": [
    "# Training set Crops VS Testing set Crops Visualization"
   ]
  },
  {
   "cell_type": "code",
   "execution_count": 28,
   "metadata": {},
   "outputs": [
    {
     "data": {
      "image/png": "[encoded data removed]",
      "text/plain": [
       "<Figure size 432x288 with 1 Axes>"
      ]
     },
     "metadata": {},
     "output_type": "display_data"
    }
   ],
   "source": [
    "_, ax = plt.subplots()\n",
    "\n",
    "ax.scatter(x = range(0, Y_test.size), y=Y_test, c = 'green', label = 'Test', alpha = 0.9,marker = 'D')\n",
    "ax.scatter(x = range(0, Y_train.size), y=Y_train, c = 'red', label = 'Train', alpha = 0.6,marker = 'P')\n",
    "plt.title('Training set Crops VS Testing set Crops')\n",
    "plt.xlabel('Observations')\n",
    "plt.ylabel('Crops')#no of label of crops\n",
    "plt.legend(loc='upper left', frameon=True)\n",
    "plt.show()"
   ]
  },
  {
   "cell_type": "markdown",
   "metadata": {},
   "source": [
    "# Correlation Between Features"
   ]
  },
  {
   "cell_type": "code",
   "execution_count": 29,
   "metadata": {},
   "outputs": [
    {
     "data": {
      "text/plain": [
       "<matplotlib.axes._subplots.AxesSubplot at 0x1466dd01518>"
      ]
     },
     "execution_count": 29,
     "metadata": {},
     "output_type": "execute_result"
    },
    {
     "data": {
      "image/png": "[encoded data removed]",
      "text/plain": [
       "<Figure size 640x480 with 2 Axes>"
      ]
     },
     "metadata": {},
     "output_type": "display_data"
    }
   ],
   "source": [
    "corr = X_train.corr()\n",
    "figure(num=None, figsize=(8, 6), dpi=80, facecolor='w', edgecolor='k')\n",
    "# plot the heatmap\n",
    "sns.heatmap(corr, \n",
    "        xticklabels=corr.columns,\n",
    "        yticklabels=corr.columns,annot = True)"
   ]
  },
  {
   "cell_type": "markdown",
   "metadata": {},
   "source": [
    "# Model Estimation"
   ]
  },
  {
   "cell_type": "markdown",
   "metadata": {},
   "source": [
    "## 1. DecisionTree Regressor"
   ]
  },
  {
   "cell_type": "code",
   "execution_count": 30,
   "metadata": {},
   "outputs": [
    {
     "data": {
      "text/plain": [
       "array([36.        , 40.        , 13.        , 26.        , 24.        ,\n",
       "       28.        ,  8.        , 22.        , 19.        , 25.        ,\n",
       "       33.        , 41.        , 34.        , 21.        , 40.        ,\n",
       "       17.66666667, 41.        , 39.        ,  2.        ,  4.5       ,\n",
       "       17.33333333,  0.        ,  1.        , 40.        , 27.        ,\n",
       "       39.        ,  1.5       , 12.        , 33.        , 29.33333333,\n",
       "       15.        ,  7.        ,  1.5       ,  4.        , 33.        ,\n",
       "       33.        ,  5.        ,  8.        , 35.        , 18.        ,\n",
       "       26.        ,  6.        ,  4.        , 27.        , 27.        ,\n",
       "       29.        , 26.        , 28.        , 35.        , 37.        ,\n",
       "       14.        , 16.        ,  8.        , 38.        , 24.        ,\n",
       "        6.        , 18.        , 10.        ,  1.5       , 19.        ,\n",
       "       26.        , 18.        ,  9.66666667, 22.33333333, 25.        ,\n",
       "       39.        , 24.        , 20.        , 28.        , 28.        ,\n",
       "       22.        , 35.        , 26.        , 41.        , 41.        ,\n",
       "        1.5       , 23.        ,  4.        , 41.        ,  4.        ,\n",
       "       29.        , 11.        , 20.        , 15.        ,  7.        ,\n",
       "       12.        , 15.        , 21.        ])"
      ]
     },
     "execution_count": 30,
     "metadata": {},
     "output_type": "execute_result"
    }
   ],
   "source": [
    "from sklearn.tree import DecisionTreeRegressor\n",
    "regressor = DecisionTreeRegressor(random_state = 0,max_depth = 20,min_samples_leaf=2)\n",
    "regressor.fit(X_train, Y_train)\n",
    "y_pred = regressor.predict(X_test)\n",
    "y_pred\n",
    "\n",
    "\n"
   ]
  },
  {
   "cell_type": "markdown",
   "metadata": {},
   "source": [
    "## Model Evaluation"
   ]
  },
  {
   "cell_type": "markdown",
   "metadata": {},
   "source": [
    "### (I)  1. Mean Absolute Error  2.RMSE 3.Accuracy  4.Visualization \n"
   ]
  },
  {
   "cell_type": "code",
   "execution_count": 31,
   "metadata": {},
   "outputs": [
    {
     "data": {
      "image/png": "[encoded data removed]",
      "text/plain": [
       "<Figure size 432x288 with 1 Axes>"
      ]
     },
     "metadata": {},
     "output_type": "display_data"
    },
    {
     "name": "stdout",
     "output_type": "stream",
     "text": [
      "On Test\n",
      "Mean Absolute Error: 4.191287878787879\n",
      "RMSE: 6.692775578898111\n",
      "accuracy: 0.8999384041409497\n"
     ]
    }
   ],
   "source": [
    "_, ax = plt.subplots()\n",
    "ax.scatter(x = range(0, Y_test.size), y=Y_test, c = 'green', label = 'Actual', alpha = 0.9,marker = 'D')\n",
    "ax.scatter(x = range(0, y_pred.size), y=y_pred, c = 'red', label = 'Predicted', alpha = 0.9,marker = 'P')\n",
    "#plt.Mean Absolute Errortitle('Actual and Predicted values')\n",
    "plt.xlabel('Observations')\n",
    "plt.ylabel('Crop')\n",
    "plt.legend(loc='upper left', frameon=True)\n",
    "plt.show()\n",
    "print(\"On Test\")\n",
    "print(\"Mean Absolute Error:\",mean_absolute_error(Y_test,y_pred))\n",
    "print(\"RMSE:\",np.sqrt(mean_squared_error(Y_test, y_pred)))\n",
    "accuracy = regressor.score(X_train,Y_train)\n",
    "print(\"accuracy:\",accuracy)"
   ]
  },
  {
   "cell_type": "markdown",
   "metadata": {},
   "source": [
    "# Grid Search"
   ]
  },
  {
   "cell_type": "code",
   "execution_count": 32,
   "metadata": {},
   "outputs": [
    {
     "name": "stderr",
     "output_type": "stream",
     "text": [
      "D:\\Anacondanew\\lib\\site-packages\\sklearn\\model_selection\\_search.py:813: DeprecationWarning: The default of the `iid` parameter will change from True to False in version 0.22 and will be removed in 0.24. This will change numeric results when test-set sizes are unequal.\n",
      "  DeprecationWarning)\n"
     ]
    },
    {
     "data": {
      "text/plain": [
       "{'max_depth': 20, 'min_samples_leaf': 4, 'min_samples_split': 70}"
      ]
     },
     "execution_count": 32,
     "metadata": {},
     "output_type": "execute_result"
    }
   ],
   "source": [
    "from sklearn.model_selection import GridSearchCV\n",
    "grid=[{'max_depth':[20,30,40,50],'min_samples_split':[70,90,110,130,150,170],'min_samples_leaf':[2,3,4,5,6,7,8]}]\n",
    "grid_search=GridSearchCV(regressor,grid,cv=7,scoring='neg_mean_squared_error')\n",
    "grid_search.fit(X_train,Y_train)\n",
    "grid_search.best_params_"
   ]
  },
  {
   "cell_type": "markdown",
   "metadata": {},
   "source": [
    "# Actual vs Prediction"
   ]
  },
  {
   "cell_type": "code",
   "execution_count": 33,
   "metadata": {},
   "outputs": [
    {
     "data": {
      "text/plain": [
       "Text(0,0.5,'Predictions')"
      ]
     },
     "execution_count": 33,
     "metadata": {},
     "output_type": "execute_result"
    },
    {
     "data": {
      "image/png": "[encoded data removed]",
      "text/plain": [
       "<Figure size 432x288 with 1 Axes>"
      ]
     },
     "metadata": {},
     "output_type": "display_data"
    }
   ],
   "source": [
    "plt.scatter(Y_test,y_pred)\n",
    "plt.xlabel('True Values')\n",
    "plt.ylabel('Predictions')"
   ]
  },
  {
   "cell_type": "markdown",
   "metadata": {},
   "source": [
    "# Outlier"
   ]
  },
  {
   "cell_type": "code",
   "execution_count": 34,
   "metadata": {},
   "outputs": [
    {
     "data": {
      "image/png": "[encoded data removed]",
      "text/plain": [
       "<Figure size 432x288 with 1 Axes>"
      ]
     },
     "metadata": {},
     "output_type": "display_data"
    }
   ],
   "source": [
    "import seaborn as sns\n",
    "sns.set(style=\"whitgrid\")\n",
    "ax = sns.violinplot(x=Y_train) "
   ]
  },
  {
   "cell_type": "markdown",
   "metadata": {},
   "source": [
    "# Model Serialization"
   ]
  },
  {
   "cell_type": "code",
   "execution_count": 35,
   "metadata": {},
   "outputs": [
    {
     "data": {
      "text/plain": [
       "DecisionTreeRegressor(criterion='mse', max_depth=20, max_features=None,\n",
       "                      max_leaf_nodes=None, min_impurity_decrease=0.0,\n",
       "                      min_impurity_split=None, min_samples_leaf=2,\n",
       "                      min_samples_split=2, min_weight_fraction_leaf=0.0,\n",
       "                      presort=False, random_state=0, splitter='best')"
      ]
     },
     "execution_count": 35,
     "metadata": {},
     "output_type": "execute_result"
    }
   ],
   "source": [
    "import pickle\n",
    "with open('1607232old.pkl', 'wb') as fid:\n",
    "    pickle.dump(regressor, fid)\n",
    "    \n",
    "my_random_forest = pickle.load(open(\"1607232old.pkl\",'rb'))\n",
    "my_random_forest"
   ]
  },
  {
   "cell_type": "markdown",
   "metadata": {},
   "source": [
    "## 2. Random Forest Regressor"
   ]
  },
  {
   "cell_type": "code",
   "execution_count": 36,
   "metadata": {},
   "outputs": [
    {
     "data": {
      "text/plain": [
       "array([36.        , 36.2       , 15.58461538, 22.74584717, 22.58917329,\n",
       "       26.73531785, 19.3362527 , 20.06666667, 19.15948502, 25.        ,\n",
       "       29.44314614, 40.1       , 34.        , 20.18326559, 35.5       ,\n",
       "       18.12472016, 41.        , 39.        , 20.10329159, 10.69090909,\n",
       "       30.3097561 ,  0.67368421,  8.10472016, 35.1       , 24.3       ,\n",
       "       35.9       ,  7.08410032, 17.13968785, 29.40274209, 25.50269151,\n",
       "       14.58461538, 13.20772885,  4.58410032,  2.47368421, 24.96814614,\n",
       "       22.77439614,  6.76109666,  7.75254109, 31.7       , 18.1680921 ,\n",
       "       13.39471551,  6.07368421,  4.        , 21.58461538, 23.1       ,\n",
       "       27.2       , 19.19107421, 26.73531785, 35.        , 31.6       ,\n",
       "       12.4709041 , 16.64162821, 17.12791937, 18.28461538, 22.58917329,\n",
       "        4.        , 16.17037338, 18.34      ,  4.68410032, 19.15948502,\n",
       "       22.        , 18.89441184,  7.71981461, 18.75593524, 25.        ,\n",
       "       39.        , 22.95287699, 19.07234957, 25.53709563, 26.73531785,\n",
       "       20.06666667, 35.        , 12.70973477, 41.        , 41.        ,\n",
       "        4.68410032, 23.13513288,  6.57368421, 40.1       , 11.62368421,\n",
       "       29.        , 13.758247  , 19.07234957, 14.98461538, 10.18570879,\n",
       "       15.19964611, 18.08461538, 20.18326559])"
      ]
     },
     "execution_count": 36,
     "metadata": {},
     "output_type": "execute_result"
    }
   ],
   "source": [
    "from sklearn.ensemble import RandomForestRegressor\n",
    "regressor1 = RandomForestRegressor(n_estimators =10,max_depth =10, random_state = 0)\n",
    "regressor1.fit(X_train,Y_train)\n",
    "y_pred1 = regressor1.predict(X_test)\n",
    "y_pred1\n"
   ]
  },
  {
   "cell_type": "markdown",
   "metadata": {},
   "source": [
    "### (II) 1.Mean Absolute Error  2.RMSE 3.Accuracy  4.Visualization \n"
   ]
  },
  {
   "cell_type": "code",
   "execution_count": 37,
   "metadata": {},
   "outputs": [
    {
     "data": {
      "image/png": "[encoded data removed]",
      "text/plain": [
       "<Figure size 432x288 with 1 Axes>"
      ]
     },
     "metadata": {},
     "output_type": "display_data"
    },
    {
     "name": "stdout",
     "output_type": "stream",
     "text": [
      "On Test\n",
      "Mean Absolute Error: 3.6418233576643573\n",
      "RMSE: 5.135124901030024\n",
      "accuracy: 0.8752592634625824\n"
     ]
    }
   ],
   "source": [
    "_, ax = plt.subplots()\n",
    "ax.scatter(x = range(0, Y_test.size), y=Y_test, c = 'green', label = 'Actual', alpha = 0.9,marker = 'D')\n",
    "ax.scatter(x = range(0, y_pred1.size), y=y_pred1, c = 'red', label = 'Predicted', alpha = 0.9,marker = 'P')\n",
    "plt.title('Actual and Predicted values')\n",
    "plt.xlabel('Observations')\n",
    "plt.ylabel('Crop')\n",
    "plt.legend(loc='upper left', frameon=True)\n",
    "plt.show()\n",
    "print(\"On Test\")\n",
    "print(\"Mean Absolute Error:\",mean_absolute_error(Y_test,y_pred1))\n",
    "print(\"RMSE:\",np.sqrt(mean_squared_error(Y_test, y_pred1)))\n",
    "accuracy = regressor1.score(X_train,Y_train)\n",
    "print(\"accuracy:\",accuracy)"
   ]
  },
  {
   "cell_type": "markdown",
   "metadata": {},
   "source": [
    "# Actual vs Prediction"
   ]
  },
  {
   "cell_type": "code",
   "execution_count": 38,
   "metadata": {},
   "outputs": [
    {
     "data": {
      "text/plain": [
       "Text(0,0.5,'Predictions')"
      ]
     },
     "execution_count": 38,
     "metadata": {},
     "output_type": "execute_result"
    },
    {
     "data": {
      "image/png": "[encoded data removed]",
      "text/plain": [
       "<Figure size 432x288 with 1 Axes>"
      ]
     },
     "metadata": {},
     "output_type": "display_data"
    }
   ],
   "source": [
    "plt.scatter(Y_test,y_pred1)\n",
    "plt.xlabel('True Values')\n",
    "plt.ylabel('Predictions')"
   ]
  },
  {
   "cell_type": "markdown",
   "metadata": {},
   "source": [
    "# Model' Serialization "
   ]
  },
  {
   "cell_type": "code",
   "execution_count": 39,
   "metadata": {},
   "outputs": [
    {
     "data": {
      "text/plain": [
       "RandomForestRegressor(bootstrap=True, criterion='mse', max_depth=10,\n",
       "                      max_features='auto', max_leaf_nodes=None,\n",
       "                      min_impurity_decrease=0.0, min_impurity_split=None,\n",
       "                      min_samples_leaf=1, min_samples_split=2,\n",
       "                      min_weight_fraction_leaf=0.0, n_estimators=10,\n",
       "                      n_jobs=None, oob_score=False, random_state=0, verbose=0,\n",
       "                      warm_start=False)"
      ]
     },
     "execution_count": 39,
     "metadata": {},
     "output_type": "execute_result"
    }
   ],
   "source": [
    "import pickle\n",
    "with open('1607232new.pkl', 'wb') as fid:\n",
    "    pickle.dump(regressor1, fid)\n",
    "    \n",
    "my_random_forest = pickle.load(open(\"1607232new.pkl\",'rb'))\n",
    "my_random_forest "
   ]
  },
  {
   "cell_type": "markdown",
   "metadata": {},
   "source": [
    "# Comparison Between Two Models"
   ]
  },
  {
   "cell_type": "code",
   "execution_count": 40,
   "metadata": {},
   "outputs": [
    {
     "data": {
      "image/png": "[encoded data removed]",
      "text/plain": [
       "<Figure size 432x288 with 1 Axes>"
      ]
     },
     "metadata": {},
     "output_type": "display_data"
    }
   ],
   "source": [
    "import matplotlib.pyplot as plt\n",
    "\n",
    "plt.plot(regressor1.predict(X_test), 'r^', label='RandomForestRegressor')\n",
    "plt.plot(regressor.predict(X_test), 'ys', label='DecisionTreeRegressor')\n",
    "\n",
    "plt.ylabel('predicted')\n",
    "plt.xlabel('training samples')\n",
    "plt.legend(loc='upper left', frameon=True)\n",
    "plt.title('Comparison of individual predictions')\n",
    "plt.show()"
   ]
  },
  {
   "cell_type": "markdown",
   "metadata": {},
   "source": [
    "## 3.Xg-Boost"
   ]
  },
  {
   "cell_type": "code",
   "execution_count": 41,
   "metadata": {},
   "outputs": [
    {
     "name": "stdout",
     "output_type": "stream",
     "text": [
      "Requirement already satisfied: xgboost in d:\\anacondanew\\lib\\site-packages (0.90)\n",
      "Requirement already satisfied: scipy in d:\\anacondanew\\lib\\site-packages (from xgboost) (1.1.0)\n",
      "Requirement already satisfied: numpy in d:\\anacondanew\\lib\\site-packages (from xgboost) (1.14.3)\n"
     ]
    },
    {
     "name": "stderr",
     "output_type": "stream",
     "text": [
      "distributed 1.21.8 requires msgpack, which is not installed.\n",
      "You are using pip version 10.0.1, however version 19.1.1 is available.\n",
      "You should consider upgrading via the 'python -m pip install --upgrade pip' command.\n"
     ]
    },
    {
     "name": "stdout",
     "output_type": "stream",
     "text": [
      "On Test\n",
      "Mean Absolute Error: 6.834766019474376\n",
      "RMSE: 8.658335038678507\n"
     ]
    },
    {
     "data": {
      "image/png": "[encoded data removed]",
      "text/plain": [
       "<Figure size 432x288 with 1 Axes>"
      ]
     },
     "metadata": {},
     "output_type": "display_data"
    }
   ],
   "source": [
    "!pip install xgboost\n",
    "import xgboost as xgb\n",
    "xg_reg = xgb.XGBRegressor(objective ='reg:squarederror', colsample_bytree = 0.5, learning_rate = 0.05,max_depth = 6, alpha = 5, n_estimators = 100)\n",
    "xg_reg.fit(X_train,Y_train)\n",
    "preds2 = xg_reg.predict(X_test)\n",
    "\n",
    "print(\"On Test\")\n",
    "print(\"Mean Absolute Error:\",mean_absolute_error(Y_test,preds2))\n",
    "print(\"RMSE:\",np.sqrt(mean_squared_error(Y_test, preds2)))\n",
    "\n",
    "\n",
    "\n",
    "ax.scatter(x = range(0, Y_test.size), y=Y_test, c = 'blue', label = 'Actual', alpha = 0.9)\n",
    "ax.scatter(x = range(0, preds2.size), y=preds2, c = 'red', label = 'Predicted', alpha = 0.9)\n",
    "\n",
    "plt.title('Actual and Predicted values')\n",
    "plt.xlabel('Observations')\n",
    "plt.ylabel('Crop')\n",
    "plt.legend(loc='upper left', frameon=True)\n",
    "plt.show()"
   ]
  },
  {
   "cell_type": "markdown",
   "metadata": {},
   "source": [
    "# A Set Of Testing Value from Sensors\n",
    "###### Any Test Set Contains Three Values. e.g X_TEST = [\"Soil Ph Value\",\"RH value\",\"Optimum Temperature\"]\n"
   ]
  },
  {
   "cell_type": "code",
   "execution_count": 42,
   "metadata": {},
   "outputs": [],
   "source": [
    "x_test1 = [5.5,65,28]\n",
    "values = np.array([x_test1])"
   ]
  },
  {
   "cell_type": "markdown",
   "metadata": {},
   "source": [
    "## Fitted to DecisionTree Regressor Model"
   ]
  },
  {
   "cell_type": "code",
   "execution_count": 43,
   "metadata": {},
   "outputs": [
    {
     "name": "stdout",
     "output_type": "stream",
     "text": [
      "output [0]\n"
     ]
    }
   ],
   "source": [
    "regressor1 = DecisionTreeRegressor(random_state = 0,max_depth = 20)\n",
    "regressor1.fit(X_train, Y_train)\n",
    "y_pred = regressor1.predict(values)\n",
    "y_predint = y_pred.astype(np.int64)\n",
    "print(\"output\",y_predint)"
   ]
  },
  {
   "cell_type": "markdown",
   "metadata": {},
   "source": [
    "## Fitted to Random Forest Regressor Model"
   ]
  },
  {
   "cell_type": "code",
   "execution_count": 44,
   "metadata": {},
   "outputs": [
    {
     "name": "stdout",
     "output_type": "stream",
     "text": [
      "[2]\n"
     ]
    }
   ],
   "source": [
    "regressor = RandomForestRegressor(n_estimators =10,max_depth =10, random_state = 0)\n",
    "regressor.fit(X_train,Y_train)\n",
    "y_pred1 = regressor.predict(values)\n",
    "y_pred1int = y_pred1.astype(np.int64)\n",
    "print(y_pred1int)"
   ]
  },
  {
   "cell_type": "markdown",
   "metadata": {},
   "source": [
    "# Print the Predicted Crop"
   ]
  },
  {
   "cell_type": "code",
   "execution_count": 45,
   "metadata": {},
   "outputs": [
    {
     "name": "stdout",
     "output_type": "stream",
     "text": [
      "Barley\n"
     ]
    }
   ],
   "source": [
    "def crop_name (y_predint):\n",
    "    if y_predint == 0:\n",
    "        return \"Barley\"\n",
    "    elif y_predint == 1:\n",
    "        return \"Bensal Gram\"\n",
    "    elif y_predint == 2:\n",
    "        return \"Bitter Bean\"\n",
    "    elif y_predint == 3:\n",
    "        return \"Black Gram\"\n",
    "    elif y_predint == 4:\n",
    "        return \"Braucoli\"\n",
    "    elif  y_predint == 5:\n",
    "        return \"Cabbage\"\n",
    "    elif y_predint == 6:\n",
    "        return \"Caunation\"\n",
    "    elif y_predint == 7:\n",
    "        return \"Chiysanthemum\"\n",
    "    elif y_predint == 8:\n",
    "        return \"Cucumber\"\n",
    "    elif y_predint == 9:\n",
    "        return \"CauliFlower\"\n",
    "    elif y_predint == 10:\n",
    "        return \"Dolichos Bean\"\n",
    "    elif y_predint == 11:\n",
    "        return \"Field-Pea\"\n",
    "    elif y_predint == 12:\n",
    "        return \"French-Bean\"\n",
    "    elif y_predint == 13:\n",
    "        return \"Garbera\"\n",
    "    elif y_predint == 14:\n",
    "        return \"Green Gram\"\n",
    "    elif y_predint == 15:\n",
    "        return \"Jasmine\"\n",
    "    elif y_predint == 16:\n",
    "        return \"Jowar\"\n",
    "    elif y_predint == 17:\n",
    "        return \"Jute\"\n",
    "    elif y_predint == 18:\n",
    "        return \"Lettuce\"\n",
    "    elif y_predint == 19:\n",
    "        return \"Maize\"\n",
    "    elif y_predint == 20:\n",
    "        return \"Mariegold\"\n",
    "    elif y_predint == 21:\n",
    "        return \"Millets\"\n",
    "    elif y_predint == 22:\n",
    "        return \"Oats\"\n",
    "    elif y_predint == 23:\n",
    "        return \"Okra\"\n",
    "    elif y_predint == 24:\n",
    "        return \"Onion\"\n",
    "    elif y_predint == 25:\n",
    "        return \"Pappya\"\n",
    "    elif y_predint == 26:\n",
    "        return \"Pointed Goud\"\n",
    "    elif y_predint == 27:\n",
    "        return \"Pumpkin\"\n",
    "    elif y_predint == 28:\n",
    "        return \"Rajma\"\n",
    "    elif y_predint == 29:\n",
    "        return \"Red-Gram\"\n",
    "    elif y_predint == 30:\n",
    "        return \"Rice\"\n",
    "    elif y_predint == 31:\n",
    "        return \"Ridge-Goud\"\n",
    "    elif y_predint == 32:\n",
    "        return \"Rose\"\n",
    "    elif y_predint == 33:\n",
    "        return \"Sorshum\"\n",
    "    elif y_predint == 34:\n",
    "        return \"Soyabeen\"\n",
    "    elif y_predint == 35:\n",
    "        return \"Spinach\"\n",
    "    elif y_predint == 36:\n",
    "        return \"Sponsgomd\"\n",
    "    elif y_predint == 37:\n",
    "        return \"Sugarcane\"\n",
    "    elif y_predint == 38:\n",
    "        return \"Sunhemp\"\n",
    "    elif y_predint == 39:\n",
    "        return \"Sweet Potato\"\n",
    "    elif y_predint == 40:\n",
    "        return \"Tube-Rose\"\n",
    "    elif y_predint == 41:\n",
    "        return \"Wheet\"\n",
    "crop = crop_name (y_predint) \n",
    "print(crop)"
   ]
  },
  {
   "cell_type": "markdown",
   "metadata": {},
   "source": [
    "# Notification Via Email"
   ]
  },
  {
   "cell_type": "code",
   "execution_count": 46,
   "metadata": {},
   "outputs": [
    {
     "name": "stdout",
     "output_type": "stream",
     "text": [
      "Success: Email sent!\n"
     ]
    }
   ],
   "source": [
    "import smtplib\n",
    "def send_email(subject, msg):\n",
    "    try:\n",
    "        server = smtplib.SMTP('smtp.gmail.com:587)\n",
    "        server.login('iotwithml@gmail.com','amartyaanirban')\n",
    "        message = 'Subject: {}\\n\\n{}'.format(subject, msg)\n",
    "        server.sendmail('iotwithml@gmail.com','amartyaroy1998@gmail.com', message)\n",
    "        server.quit()\n",
    "        print(\"Success: Email sent!\")\n",
    "    except:\n",
    "        print(\"Email failed to send.\")\n",
    "subject = \"Test \"\n",
    "msg =  crop\n",
    "send_email(subject, msg)"
   ]
  }
 ],
 "metadata": {
  "kernelspec": {
   "display_name": "Python 3",
   "language": "python",
   "name": "python3"
  },
  "toc": {
   "base_numbering": 1,
   "nav_menu": {},
   "number_sections": true,
   "sideBar": true,
   "skip_h1_title": false,
   "title_cell": "Table of Contents",
   "title_sidebar": "Contents",
   "toc_cell": false,
   "toc_position": {},
   "toc_section_display": true,
   "toc_window_display": false
  },
  "varInspector": {
   "cols": {
    "lenName": 16,
    "lenType": 16,
    "lenVar": 40
   },
   "kernels_config": {
    "python": {
     "delete_cmd_postfix": "",
     "delete_cmd_prefix": "del ",
     "library": "var_list.py",
     "varRefreshCmd": "print(var_dic_list())"
    },
    "r": {
     "delete_cmd_postfix": ") ",
     "delete_cmd_prefix": "rm(",
     "library": "var_list.r",
     "varRefreshCmd": "cat(var_dic_list()) "
    }
   },
   "types_to_exclude": [
    "module",
    "function",
    "builtin_function_or_method",
    "instance",
    "_Feature"
   ],
   "window_display": false
  }
 },
 "nbformat": 4,
 "nbformat_minor": 2
}
